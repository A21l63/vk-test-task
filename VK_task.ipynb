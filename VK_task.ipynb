{
 "cells": [
  {
   "cell_type": "code",
   "execution_count": 6,
   "id": "fe130b6d-3485-4a24-aebf-231a5e002e59",
   "metadata": {},
   "outputs": [],
   "source": [
    "import pandas as pd\n",
    "from sklearn.model_selection import train_test_split\n",
    "from sklearn.feature_extraction.text import CountVectorizer\n",
    "from sklearn.naive_bayes import BernoulliNB\n",
    "from sklearn.linear_model import LogisticRegression\n",
    "from sklearn.decomposition import TruncatedSVD\n",
    "from sklearn.metrics import classification_report, roc_auc_score\n",
    "from sklearn.ensemble import RandomForestClassifier\n",
    "\n",
    "import nltk\n",
    "from nltk.corpus import stopwords\n",
    "from nltk.stem import PorterStemmer\n",
    "from nltk.tokenize import word_tokenize\n",
    "from transformers import AutoTokenizer, AutoModelForSequenceClassification\n",
    "\n",
    "import os"
   ]
  },
  {
   "cell_type": "code",
   "execution_count": 2,
   "id": "a8877c3a-82d9-49d1-80c4-ba1e0708bfd2",
   "metadata": {},
   "outputs": [],
   "source": [
    "os.environ[\"CUDA_VISIBLE_DEVICES\"] = \"3\"\n",
    "!export CUDA_VISIBLE_DEVICES=3\n",
    "os.environ['TRANSFORMERS_CACHE'] = '../../../hfcache'\n",
    "!export TRANSFORMERS_CACHE='../../../hfcache'\n",
    "cache_dir = \"../../../hfcache\"\n",
    "device = 'cuda'"
   ]
  },
  {
   "cell_type": "markdown",
   "id": "c832f2da-b724-489f-8567-f67813b4cbf9",
   "metadata": {},
   "source": [
    "# Данные"
   ]
  },
  {
   "cell_type": "code",
   "execution_count": 4,
   "id": "e8ab4860-7016-45cc-b2f5-14e90e7611a2",
   "metadata": {},
   "outputs": [],
   "source": [
    "# Чтение файла CSV\n",
    "data = pd.read_csv('train_spam.csv')\n",
    "\n",
    "# Таргет переводим в вид 0 - не спам, 1 - спам\n",
    "target_dict = {'ham': 0, 'spam' : 1}\n",
    "data['text_type'] = data['text_type'].apply(lambda x: target_dict[x])"
   ]
  },
  {
   "cell_type": "code",
   "execution_count": 34,
   "id": "d2c98982-97ba-4c1c-8ee1-06cbba28e1e5",
   "metadata": {},
   "outputs": [
    {
     "data": {
      "text/plain": [
       "<Axes: >"
      ]
     },
     "execution_count": 34,
     "metadata": {},
     "output_type": "execute_result"
    },
    {
     "data": {
      "image/png": "[encoded data removed]",
      "text/plain": [
       "<Figure size 640x480 with 1 Axes>"
      ]
     },
     "metadata": {},
     "output_type": "display_data"
    }
   ],
   "source": [
    "data['text_type'].hist()"
   ]
  },
  {
   "cell_type": "markdown",
   "id": "1c3377f5-abcd-4141-95ad-121841a54315",
   "metadata": {},
   "source": [
    "Очевиден дисбалланс классов, можно взять данные из открытых датасетов, чтобы уравнять количество примеров для каждого из классов, но в этой задаче это не критично"
   ]
  },
  {
   "cell_type": "code",
   "execution_count": 7,
   "id": "d48509a3-fdc5-4701-9046-095f6bed796a",
   "metadata": {},
   "outputs": [],
   "source": [
    "stops = stopwords.words('english')\n",
    "\n",
    "stemmer = PorterStemmer()\n",
    "# Лемматизация показала себя хуже, поэтому остановился на стэмминге\n",
    "data['text'] = data['text'].apply(lambda x: ' '.join([stemmer.stem(word) for word in word_tokenize(x)]))\n",
    "\n",
    "# Разделение выборки на обучающую и тестовую\n",
    "X_train, X_test, y_train, y_test = train_test_split(data['text'], data['text_type'], test_size=0.2, random_state=42)"
   ]
  },
  {
   "cell_type": "code",
   "execution_count": 8,
   "id": "a06cef66-cba0-40ab-a0e4-0d2f189099ea",
   "metadata": {},
   "outputs": [],
   "source": [
    "# Векторизация текстов с помощью счетчика (TF-IDF векторизация была не лучше)\n",
    "tfidf_vectorizer = CountVectorizer(min_df=3, ngram_range=(1,3), stop_words=stopwords.words('english'))\n",
    "\n",
    "X_train_tfidf = tfidf_vectorizer.fit_transform(X_train)\n",
    "X_test_tfidf = tfidf_vectorizer.transform(X_test)"
   ]
  },
  {
   "cell_type": "markdown",
   "id": "0196e8cb-a265-4d25-9871-2d84aa1b568f",
   "metadata": {},
   "source": [
    "# Модели"
   ]
  },
  {
   "cell_type": "markdown",
   "id": "77dac684-bd32-4e04-851f-02f4e19d7b55",
   "metadata": {},
   "source": [
    "### Наивный байесовский классификатор"
   ]
  },
  {
   "cell_type": "markdown",
   "id": "6d15385d-222b-4e96-a43d-2c97cc5d3b9f",
   "metadata": {},
   "source": [
    "Это самое базовое, что можно обучать для классификации текстов, иногда срабатывает очень хорошо"
   ]
  },
  {
   "cell_type": "code",
   "execution_count": 9,
   "id": "1d447032-344a-4d9f-97cb-3f0f612279a0",
   "metadata": {},
   "outputs": [
    {
     "data": {
      "text/html": [
       "<style>#sk-container-id-1 {color: black;}#sk-container-id-1 pre{padding: 0;}#sk-container-id-1 div.sk-toggleable {background-color: white;}#sk-container-id-1 label.sk-toggleable__label {cursor: pointer;display: block;width: 100%;margin-bottom: 0;padding: 0.3em;box-sizing: border-box;text-align: center;}#sk-container-id-1 label.sk-toggleable__label-arrow:before {content: \"▸\";float: left;margin-right: 0.25em;color: #696969;}#sk-container-id-1 label.sk-toggleable__label-arrow:hover:before {color: black;}#sk-container-id-1 div.sk-estimator:hover label.sk-toggleable__label-arrow:before {color: black;}#sk-container-id-1 div.sk-toggleable__content {max-height: 0;max-width: 0;overflow: hidden;text-align: left;background-color: #f0f8ff;}#sk-container-id-1 div.sk-toggleable__content pre {margin: 0.2em;color: black;border-radius: 0.25em;background-color: #f0f8ff;}#sk-container-id-1 input.sk-toggleable__control:checked~div.sk-toggleable__content {max-height: 200px;max-width: 100%;overflow: auto;}#sk-container-id-1 input.sk-toggleable__control:checked~label.sk-toggleable__label-arrow:before {content: \"▾\";}#sk-container-id-1 div.sk-estimator input.sk-toggleable__control:checked~label.sk-toggleable__label {background-color: #d4ebff;}#sk-container-id-1 div.sk-label input.sk-toggleable__control:checked~label.sk-toggleable__label {background-color: #d4ebff;}#sk-container-id-1 input.sk-hidden--visually {border: 0;clip: rect(1px 1px 1px 1px);clip: rect(1px, 1px, 1px, 1px);height: 1px;margin: -1px;overflow: hidden;padding: 0;position: absolute;width: 1px;}#sk-container-id-1 div.sk-estimator {font-family: monospace;background-color: #f0f8ff;border: 1px dotted black;border-radius: 0.25em;box-sizing: border-box;margin-bottom: 0.5em;}#sk-container-id-1 div.sk-estimator:hover {background-color: #d4ebff;}#sk-container-id-1 div.sk-parallel-item::after {content: \"\";width: 100%;border-bottom: 1px solid gray;flex-grow: 1;}#sk-container-id-1 div.sk-label:hover label.sk-toggleable__label {background-color: #d4ebff;}#sk-container-id-1 div.sk-serial::before {content: \"\";position: absolute;border-left: 1px solid gray;box-sizing: border-box;top: 0;bottom: 0;left: 50%;z-index: 0;}#sk-container-id-1 div.sk-serial {display: flex;flex-direction: column;align-items: center;background-color: white;padding-right: 0.2em;padding-left: 0.2em;position: relative;}#sk-container-id-1 div.sk-item {position: relative;z-index: 1;}#sk-container-id-1 div.sk-parallel {display: flex;align-items: stretch;justify-content: center;background-color: white;position: relative;}#sk-container-id-1 div.sk-item::before, #sk-container-id-1 div.sk-parallel-item::before {content: \"\";position: absolute;border-left: 1px solid gray;box-sizing: border-box;top: 0;bottom: 0;left: 50%;z-index: -1;}#sk-container-id-1 div.sk-parallel-item {display: flex;flex-direction: column;z-index: 1;position: relative;background-color: white;}#sk-container-id-1 div.sk-parallel-item:first-child::after {align-self: flex-end;width: 50%;}#sk-container-id-1 div.sk-parallel-item:last-child::after {align-self: flex-start;width: 50%;}#sk-container-id-1 div.sk-parallel-item:only-child::after {width: 0;}#sk-container-id-1 div.sk-dashed-wrapped {border: 1px dashed gray;margin: 0 0.4em 0.5em 0.4em;box-sizing: border-box;padding-bottom: 0.4em;background-color: white;}#sk-container-id-1 div.sk-label label {font-family: monospace;font-weight: bold;display: inline-block;line-height: 1.2em;}#sk-container-id-1 div.sk-label-container {text-align: center;}#sk-container-id-1 div.sk-container {/* jupyter's `normalize.less` sets `[hidden] { display: none; }` but bootstrap.min.css set `[hidden] { display: none !important; }` so we also need the `!important` here to be able to override the default hidden behavior on the sphinx rendered scikit-learn.org. See: https://github.com/scikit-learn/scikit-learn/issues/21755 */display: inline-block !important;position: relative;}#sk-container-id-1 div.sk-text-repr-fallback {display: none;}</style><div id=\"sk-container-id-1\" class=\"sk-top-container\"><div class=\"sk-text-repr-fallback\"><pre>BernoulliNB()</pre><b>In a Jupyter environment, please rerun this cell to show the HTML representation or trust the notebook. <br />On GitHub, the HTML representation is unable to render, please try loading this page with nbviewer.org.</b></div><div class=\"sk-container\" hidden><div class=\"sk-item\"><div class=\"sk-estimator sk-toggleable\"><input class=\"sk-toggleable__control sk-hidden--visually\" id=\"sk-estimator-id-1\" type=\"checkbox\" checked><label for=\"sk-estimator-id-1\" class=\"sk-toggleable__label sk-toggleable__label-arrow\">BernoulliNB</label><div class=\"sk-toggleable__content\"><pre>BernoulliNB()</pre></div></div></div></div></div>"
      ],
      "text/plain": [
       "BernoulliNB()"
      ]
     },
     "execution_count": 9,
     "metadata": {},
     "output_type": "execute_result"
    }
   ],
   "source": [
    "# Обучение наивного байесовского классификатора\n",
    "nb_classifier = BernoulliNB()\n",
    "nb_classifier.fit(X_train_tfidf, y_train)"
   ]
  },
  {
   "cell_type": "markdown",
   "id": "984acf5d-7494-418a-8fc2-717d9c91ab78",
   "metadata": {},
   "source": [
    "Если смотреть на отношение качества к затраченным ресурсам, то результат хороший"
   ]
  },
  {
   "cell_type": "code",
   "execution_count": 10,
   "id": "50b12df0-9608-4c83-b483-7eb9ff896205",
   "metadata": {},
   "outputs": [
    {
     "name": "stdout",
     "output_type": "stream",
     "text": [
      "              precision    recall  f1-score   support\n",
      "\n",
      "    not spam       0.98      0.94      0.96      2421\n",
      "        spam       0.85      0.95      0.89       835\n",
      "\n",
      "    accuracy                           0.94      3256\n",
      "   macro avg       0.91      0.94      0.93      3256\n",
      "weighted avg       0.95      0.94      0.94      3256\n",
      "\n",
      "ROC-AUC:  0.9447182462831463\n"
     ]
    }
   ],
   "source": [
    "# Оценка точности наивного байесовского классификатора\n",
    "nb_prediction = nb_classifier.predict(X_test_tfidf)\n",
    "print(classification_report(nb_prediction, y_test, target_names=['not spam', 'spam']))\n",
    "print('ROC-AUC: ', roc_auc_score(nb_prediction, y_test))"
   ]
  },
  {
   "cell_type": "markdown",
   "id": "e5891ee2-89cd-47d2-bb2e-d8c286a68c03",
   "metadata": {},
   "source": [
    "### Логистическая регрессия"
   ]
  },
  {
   "cell_type": "markdown",
   "id": "36e9efdf-da92-49f6-b884-82c19720fa41",
   "metadata": {},
   "source": [
    "Данные разреженные + большая размерность, значит логистическая регрессия должна показать себя хорошо"
   ]
  },
  {
   "cell_type": "code",
   "execution_count": 11,
   "id": "763b05a7-d83d-4b8f-9640-7d43adf2d934",
   "metadata": {},
   "outputs": [
    {
     "data": {
      "text/html": [
       "<style>#sk-container-id-2 {color: black;}#sk-container-id-2 pre{padding: 0;}#sk-container-id-2 div.sk-toggleable {background-color: white;}#sk-container-id-2 label.sk-toggleable__label {cursor: pointer;display: block;width: 100%;margin-bottom: 0;padding: 0.3em;box-sizing: border-box;text-align: center;}#sk-container-id-2 label.sk-toggleable__label-arrow:before {content: \"▸\";float: left;margin-right: 0.25em;color: #696969;}#sk-container-id-2 label.sk-toggleable__label-arrow:hover:before {color: black;}#sk-container-id-2 div.sk-estimator:hover label.sk-toggleable__label-arrow:before {color: black;}#sk-container-id-2 div.sk-toggleable__content {max-height: 0;max-width: 0;overflow: hidden;text-align: left;background-color: #f0f8ff;}#sk-container-id-2 div.sk-toggleable__content pre {margin: 0.2em;color: black;border-radius: 0.25em;background-color: #f0f8ff;}#sk-container-id-2 input.sk-toggleable__control:checked~div.sk-toggleable__content {max-height: 200px;max-width: 100%;overflow: auto;}#sk-container-id-2 input.sk-toggleable__control:checked~label.sk-toggleable__label-arrow:before {content: \"▾\";}#sk-container-id-2 div.sk-estimator input.sk-toggleable__control:checked~label.sk-toggleable__label {background-color: #d4ebff;}#sk-container-id-2 div.sk-label input.sk-toggleable__control:checked~label.sk-toggleable__label {background-color: #d4ebff;}#sk-container-id-2 input.sk-hidden--visually {border: 0;clip: rect(1px 1px 1px 1px);clip: rect(1px, 1px, 1px, 1px);height: 1px;margin: -1px;overflow: hidden;padding: 0;position: absolute;width: 1px;}#sk-container-id-2 div.sk-estimator {font-family: monospace;background-color: #f0f8ff;border: 1px dotted black;border-radius: 0.25em;box-sizing: border-box;margin-bottom: 0.5em;}#sk-container-id-2 div.sk-estimator:hover {background-color: #d4ebff;}#sk-container-id-2 div.sk-parallel-item::after {content: \"\";width: 100%;border-bottom: 1px solid gray;flex-grow: 1;}#sk-container-id-2 div.sk-label:hover label.sk-toggleable__label {background-color: #d4ebff;}#sk-container-id-2 div.sk-serial::before {content: \"\";position: absolute;border-left: 1px solid gray;box-sizing: border-box;top: 0;bottom: 0;left: 50%;z-index: 0;}#sk-container-id-2 div.sk-serial {display: flex;flex-direction: column;align-items: center;background-color: white;padding-right: 0.2em;padding-left: 0.2em;position: relative;}#sk-container-id-2 div.sk-item {position: relative;z-index: 1;}#sk-container-id-2 div.sk-parallel {display: flex;align-items: stretch;justify-content: center;background-color: white;position: relative;}#sk-container-id-2 div.sk-item::before, #sk-container-id-2 div.sk-parallel-item::before {content: \"\";position: absolute;border-left: 1px solid gray;box-sizing: border-box;top: 0;bottom: 0;left: 50%;z-index: -1;}#sk-container-id-2 div.sk-parallel-item {display: flex;flex-direction: column;z-index: 1;position: relative;background-color: white;}#sk-container-id-2 div.sk-parallel-item:first-child::after {align-self: flex-end;width: 50%;}#sk-container-id-2 div.sk-parallel-item:last-child::after {align-self: flex-start;width: 50%;}#sk-container-id-2 div.sk-parallel-item:only-child::after {width: 0;}#sk-container-id-2 div.sk-dashed-wrapped {border: 1px dashed gray;margin: 0 0.4em 0.5em 0.4em;box-sizing: border-box;padding-bottom: 0.4em;background-color: white;}#sk-container-id-2 div.sk-label label {font-family: monospace;font-weight: bold;display: inline-block;line-height: 1.2em;}#sk-container-id-2 div.sk-label-container {text-align: center;}#sk-container-id-2 div.sk-container {/* jupyter's `normalize.less` sets `[hidden] { display: none; }` but bootstrap.min.css set `[hidden] { display: none !important; }` so we also need the `!important` here to be able to override the default hidden behavior on the sphinx rendered scikit-learn.org. See: https://github.com/scikit-learn/scikit-learn/issues/21755 */display: inline-block !important;position: relative;}#sk-container-id-2 div.sk-text-repr-fallback {display: none;}</style><div id=\"sk-container-id-2\" class=\"sk-top-container\"><div class=\"sk-text-repr-fallback\"><pre>LogisticRegression(max_iter=500)</pre><b>In a Jupyter environment, please rerun this cell to show the HTML representation or trust the notebook. <br />On GitHub, the HTML representation is unable to render, please try loading this page with nbviewer.org.</b></div><div class=\"sk-container\" hidden><div class=\"sk-item\"><div class=\"sk-estimator sk-toggleable\"><input class=\"sk-toggleable__control sk-hidden--visually\" id=\"sk-estimator-id-2\" type=\"checkbox\" checked><label for=\"sk-estimator-id-2\" class=\"sk-toggleable__label sk-toggleable__label-arrow\">LogisticRegression</label><div class=\"sk-toggleable__content\"><pre>LogisticRegression(max_iter=500)</pre></div></div></div></div></div>"
      ],
      "text/plain": [
       "LogisticRegression(max_iter=500)"
      ]
     },
     "execution_count": 11,
     "metadata": {},
     "output_type": "execute_result"
    }
   ],
   "source": [
    "lr_classifier = LogisticRegression(max_iter=500)\n",
    "lr_classifier.fit(X_train_tfidf, y_train)"
   ]
  },
  {
   "cell_type": "markdown",
   "id": "4e37f417-336a-443f-9a9b-747c5949daac",
   "metadata": {},
   "source": [
    "**80% результата за 20% времени мы уже получили**"
   ]
  },
  {
   "cell_type": "code",
   "execution_count": 12,
   "id": "d85c5caa-1941-4c78-96b0-5831053b0420",
   "metadata": {},
   "outputs": [
    {
     "name": "stdout",
     "output_type": "stream",
     "text": [
      "              precision    recall  f1-score   support\n",
      "\n",
      "    not spam       0.98      0.95      0.96      2385\n",
      "        spam       0.87      0.94      0.91       871\n",
      "\n",
      "    accuracy                           0.95      3256\n",
      "   macro avg       0.93      0.95      0.93      3256\n",
      "weighted avg       0.95      0.95      0.95      3256\n",
      "\n",
      "ROC-AUC:  0.945046899031692\n"
     ]
    }
   ],
   "source": [
    "# Оценка точности логистической регрессии\n",
    "lr_prediction = lr_classifier.predict(X_test_tfidf)\n",
    "print(classification_report(lr_prediction, y_test, target_names=['not spam', 'spam']))\n",
    "print('ROC-AUC: ',roc_auc_score(lr_prediction, y_test))"
   ]
  },
  {
   "cell_type": "markdown",
   "id": "8b2faac3-3b40-4ca7-8e5f-b5952879c71f",
   "metadata": {},
   "source": [
    "### Получение эмбеддингов в виде первой матрицы SVD-разложения "
   ]
  },
  {
   "cell_type": "markdown",
   "id": "4a5526df-5612-4cdd-a798-722f45202d6b",
   "metadata": {},
   "source": [
    "Получим эмбеддинг для каждого из текстов, с помощью SVD-разложения (оставляем первую матрицу в разложении, строки - векторы для каждого текста)"
   ]
  },
  {
   "cell_type": "code",
   "execution_count": 13,
   "id": "749fe8bc-8536-48d7-9a57-82936244179d",
   "metadata": {},
   "outputs": [],
   "source": [
    "# Применение метода главных компонент (PCA) к векторизованным текстам\n",
    "pca = TruncatedSVD(n_components=64)\n",
    "X_train_pca = pca.fit_transform(X_train_tfidf)\n",
    "X_test_pca = pca.transform(X_test_tfidf)"
   ]
  },
  {
   "cell_type": "markdown",
   "id": "3b204f1a-9091-4c55-9f59-d71ad7a38316",
   "metadata": {},
   "source": [
    "### Еще раз обучим логистическую регрессию"
   ]
  },
  {
   "cell_type": "code",
   "execution_count": 14,
   "id": "8c75eed7-ba49-46ac-ad9a-fa472189b5f2",
   "metadata": {},
   "outputs": [
    {
     "data": {
      "text/html": [
       "<style>#sk-container-id-3 {color: black;}#sk-container-id-3 pre{padding: 0;}#sk-container-id-3 div.sk-toggleable {background-color: white;}#sk-container-id-3 label.sk-toggleable__label {cursor: pointer;display: block;width: 100%;margin-bottom: 0;padding: 0.3em;box-sizing: border-box;text-align: center;}#sk-container-id-3 label.sk-toggleable__label-arrow:before {content: \"▸\";float: left;margin-right: 0.25em;color: #696969;}#sk-container-id-3 label.sk-toggleable__label-arrow:hover:before {color: black;}#sk-container-id-3 div.sk-estimator:hover label.sk-toggleable__label-arrow:before {color: black;}#sk-container-id-3 div.sk-toggleable__content {max-height: 0;max-width: 0;overflow: hidden;text-align: left;background-color: #f0f8ff;}#sk-container-id-3 div.sk-toggleable__content pre {margin: 0.2em;color: black;border-radius: 0.25em;background-color: #f0f8ff;}#sk-container-id-3 input.sk-toggleable__control:checked~div.sk-toggleable__content {max-height: 200px;max-width: 100%;overflow: auto;}#sk-container-id-3 input.sk-toggleable__control:checked~label.sk-toggleable__label-arrow:before {content: \"▾\";}#sk-container-id-3 div.sk-estimator input.sk-toggleable__control:checked~label.sk-toggleable__label {background-color: #d4ebff;}#sk-container-id-3 div.sk-label input.sk-toggleable__control:checked~label.sk-toggleable__label {background-color: #d4ebff;}#sk-container-id-3 input.sk-hidden--visually {border: 0;clip: rect(1px 1px 1px 1px);clip: rect(1px, 1px, 1px, 1px);height: 1px;margin: -1px;overflow: hidden;padding: 0;position: absolute;width: 1px;}#sk-container-id-3 div.sk-estimator {font-family: monospace;background-color: #f0f8ff;border: 1px dotted black;border-radius: 0.25em;box-sizing: border-box;margin-bottom: 0.5em;}#sk-container-id-3 div.sk-estimator:hover {background-color: #d4ebff;}#sk-container-id-3 div.sk-parallel-item::after {content: \"\";width: 100%;border-bottom: 1px solid gray;flex-grow: 1;}#sk-container-id-3 div.sk-label:hover label.sk-toggleable__label {background-color: #d4ebff;}#sk-container-id-3 div.sk-serial::before {content: \"\";position: absolute;border-left: 1px solid gray;box-sizing: border-box;top: 0;bottom: 0;left: 50%;z-index: 0;}#sk-container-id-3 div.sk-serial {display: flex;flex-direction: column;align-items: center;background-color: white;padding-right: 0.2em;padding-left: 0.2em;position: relative;}#sk-container-id-3 div.sk-item {position: relative;z-index: 1;}#sk-container-id-3 div.sk-parallel {display: flex;align-items: stretch;justify-content: center;background-color: white;position: relative;}#sk-container-id-3 div.sk-item::before, #sk-container-id-3 div.sk-parallel-item::before {content: \"\";position: absolute;border-left: 1px solid gray;box-sizing: border-box;top: 0;bottom: 0;left: 50%;z-index: -1;}#sk-container-id-3 div.sk-parallel-item {display: flex;flex-direction: column;z-index: 1;position: relative;background-color: white;}#sk-container-id-3 div.sk-parallel-item:first-child::after {align-self: flex-end;width: 50%;}#sk-container-id-3 div.sk-parallel-item:last-child::after {align-self: flex-start;width: 50%;}#sk-container-id-3 div.sk-parallel-item:only-child::after {width: 0;}#sk-container-id-3 div.sk-dashed-wrapped {border: 1px dashed gray;margin: 0 0.4em 0.5em 0.4em;box-sizing: border-box;padding-bottom: 0.4em;background-color: white;}#sk-container-id-3 div.sk-label label {font-family: monospace;font-weight: bold;display: inline-block;line-height: 1.2em;}#sk-container-id-3 div.sk-label-container {text-align: center;}#sk-container-id-3 div.sk-container {/* jupyter's `normalize.less` sets `[hidden] { display: none; }` but bootstrap.min.css set `[hidden] { display: none !important; }` so we also need the `!important` here to be able to override the default hidden behavior on the sphinx rendered scikit-learn.org. See: https://github.com/scikit-learn/scikit-learn/issues/21755 */display: inline-block !important;position: relative;}#sk-container-id-3 div.sk-text-repr-fallback {display: none;}</style><div id=\"sk-container-id-3\" class=\"sk-top-container\"><div class=\"sk-text-repr-fallback\"><pre>LogisticRegression(max_iter=500)</pre><b>In a Jupyter environment, please rerun this cell to show the HTML representation or trust the notebook. <br />On GitHub, the HTML representation is unable to render, please try loading this page with nbviewer.org.</b></div><div class=\"sk-container\" hidden><div class=\"sk-item\"><div class=\"sk-estimator sk-toggleable\"><input class=\"sk-toggleable__control sk-hidden--visually\" id=\"sk-estimator-id-3\" type=\"checkbox\" checked><label for=\"sk-estimator-id-3\" class=\"sk-toggleable__label sk-toggleable__label-arrow\">LogisticRegression</label><div class=\"sk-toggleable__content\"><pre>LogisticRegression(max_iter=500)</pre></div></div></div></div></div>"
      ],
      "text/plain": [
       "LogisticRegression(max_iter=500)"
      ]
     },
     "execution_count": 14,
     "metadata": {},
     "output_type": "execute_result"
    }
   ],
   "source": [
    "lr_classifier_pca = LogisticRegression(max_iter=500)\n",
    "lr_classifier_pca.fit(X_train_pca, y_train)"
   ]
  },
  {
   "cell_type": "code",
   "execution_count": 15,
   "id": "3ade00b5-0f4c-46d2-80df-2ff596633352",
   "metadata": {},
   "outputs": [
    {
     "name": "stdout",
     "output_type": "stream",
     "text": [
      "              precision    recall  f1-score   support\n",
      "\n",
      "    not spam       0.96      0.87      0.92      2561\n",
      "        spam       0.65      0.88      0.75       695\n",
      "\n",
      "    accuracy                           0.87      3256\n",
      "   macro avg       0.81      0.88      0.83      3256\n",
      "weighted avg       0.90      0.87      0.88      3256\n",
      "\n",
      "0.8763118049098402\n"
     ]
    }
   ],
   "source": [
    "# Оценка точности после применения PCA\n",
    "lr_prediction_pca = lr_classifier_pca.predict(X_test_pca)\n",
    "print(classification_report(lr_prediction_pca, y_test, target_names=['not spam', 'spam']))\n",
    "print(roc_auc_score(lr_prediction_pca, y_test))"
   ]
  },
  {
   "cell_type": "markdown",
   "id": "db72c1cc-a191-459d-9354-23305a9e7f65",
   "metadata": {},
   "source": [
    "### Попробуем обучить случайный лес"
   ]
  },
  {
   "cell_type": "code",
   "execution_count": 16,
   "id": "c0fbcc53-2537-438d-81d5-cc458d810df1",
   "metadata": {},
   "outputs": [
    {
     "data": {
      "text/html": [
       "<style>#sk-container-id-4 {color: black;}#sk-container-id-4 pre{padding: 0;}#sk-container-id-4 div.sk-toggleable {background-color: white;}#sk-container-id-4 label.sk-toggleable__label {cursor: pointer;display: block;width: 100%;margin-bottom: 0;padding: 0.3em;box-sizing: border-box;text-align: center;}#sk-container-id-4 label.sk-toggleable__label-arrow:before {content: \"▸\";float: left;margin-right: 0.25em;color: #696969;}#sk-container-id-4 label.sk-toggleable__label-arrow:hover:before {color: black;}#sk-container-id-4 div.sk-estimator:hover label.sk-toggleable__label-arrow:before {color: black;}#sk-container-id-4 div.sk-toggleable__content {max-height: 0;max-width: 0;overflow: hidden;text-align: left;background-color: #f0f8ff;}#sk-container-id-4 div.sk-toggleable__content pre {margin: 0.2em;color: black;border-radius: 0.25em;background-color: #f0f8ff;}#sk-container-id-4 input.sk-toggleable__control:checked~div.sk-toggleable__content {max-height: 200px;max-width: 100%;overflow: auto;}#sk-container-id-4 input.sk-toggleable__control:checked~label.sk-toggleable__label-arrow:before {content: \"▾\";}#sk-container-id-4 div.sk-estimator input.sk-toggleable__control:checked~label.sk-toggleable__label {background-color: #d4ebff;}#sk-container-id-4 div.sk-label input.sk-toggleable__control:checked~label.sk-toggleable__label {background-color: #d4ebff;}#sk-container-id-4 input.sk-hidden--visually {border: 0;clip: rect(1px 1px 1px 1px);clip: rect(1px, 1px, 1px, 1px);height: 1px;margin: -1px;overflow: hidden;padding: 0;position: absolute;width: 1px;}#sk-container-id-4 div.sk-estimator {font-family: monospace;background-color: #f0f8ff;border: 1px dotted black;border-radius: 0.25em;box-sizing: border-box;margin-bottom: 0.5em;}#sk-container-id-4 div.sk-estimator:hover {background-color: #d4ebff;}#sk-container-id-4 div.sk-parallel-item::after {content: \"\";width: 100%;border-bottom: 1px solid gray;flex-grow: 1;}#sk-container-id-4 div.sk-label:hover label.sk-toggleable__label {background-color: #d4ebff;}#sk-container-id-4 div.sk-serial::before {content: \"\";position: absolute;border-left: 1px solid gray;box-sizing: border-box;top: 0;bottom: 0;left: 50%;z-index: 0;}#sk-container-id-4 div.sk-serial {display: flex;flex-direction: column;align-items: center;background-color: white;padding-right: 0.2em;padding-left: 0.2em;position: relative;}#sk-container-id-4 div.sk-item {position: relative;z-index: 1;}#sk-container-id-4 div.sk-parallel {display: flex;align-items: stretch;justify-content: center;background-color: white;position: relative;}#sk-container-id-4 div.sk-item::before, #sk-container-id-4 div.sk-parallel-item::before {content: \"\";position: absolute;border-left: 1px solid gray;box-sizing: border-box;top: 0;bottom: 0;left: 50%;z-index: -1;}#sk-container-id-4 div.sk-parallel-item {display: flex;flex-direction: column;z-index: 1;position: relative;background-color: white;}#sk-container-id-4 div.sk-parallel-item:first-child::after {align-self: flex-end;width: 50%;}#sk-container-id-4 div.sk-parallel-item:last-child::after {align-self: flex-start;width: 50%;}#sk-container-id-4 div.sk-parallel-item:only-child::after {width: 0;}#sk-container-id-4 div.sk-dashed-wrapped {border: 1px dashed gray;margin: 0 0.4em 0.5em 0.4em;box-sizing: border-box;padding-bottom: 0.4em;background-color: white;}#sk-container-id-4 div.sk-label label {font-family: monospace;font-weight: bold;display: inline-block;line-height: 1.2em;}#sk-container-id-4 div.sk-label-container {text-align: center;}#sk-container-id-4 div.sk-container {/* jupyter's `normalize.less` sets `[hidden] { display: none; }` but bootstrap.min.css set `[hidden] { display: none !important; }` so we also need the `!important` here to be able to override the default hidden behavior on the sphinx rendered scikit-learn.org. See: https://github.com/scikit-learn/scikit-learn/issues/21755 */display: inline-block !important;position: relative;}#sk-container-id-4 div.sk-text-repr-fallback {display: none;}</style><div id=\"sk-container-id-4\" class=\"sk-top-container\"><div class=\"sk-text-repr-fallback\"><pre>RandomForestClassifier(n_estimators=500)</pre><b>In a Jupyter environment, please rerun this cell to show the HTML representation or trust the notebook. <br />On GitHub, the HTML representation is unable to render, please try loading this page with nbviewer.org.</b></div><div class=\"sk-container\" hidden><div class=\"sk-item\"><div class=\"sk-estimator sk-toggleable\"><input class=\"sk-toggleable__control sk-hidden--visually\" id=\"sk-estimator-id-4\" type=\"checkbox\" checked><label for=\"sk-estimator-id-4\" class=\"sk-toggleable__label sk-toggleable__label-arrow\">RandomForestClassifier</label><div class=\"sk-toggleable__content\"><pre>RandomForestClassifier(n_estimators=500)</pre></div></div></div></div></div>"
      ],
      "text/plain": [
       "RandomForestClassifier(n_estimators=500)"
      ]
     },
     "execution_count": 16,
     "metadata": {},
     "output_type": "execute_result"
    }
   ],
   "source": [
    "rf = RandomForestClassifier(n_estimators=500, max_features='sqrt')\n",
    "rf.fit(X_train_pca, y_train)"
   ]
  },
  {
   "cell_type": "code",
   "execution_count": 17,
   "id": "1d722978-ad59-454c-af49-4b17f7478afa",
   "metadata": {},
   "outputs": [
    {
     "name": "stdout",
     "output_type": "stream",
     "text": [
      "              precision    recall  f1-score   support\n",
      "\n",
      "    not spam       0.97      0.92      0.94      2456\n",
      "        spam       0.79      0.92      0.85       800\n",
      "\n",
      "    accuracy                           0.92      3256\n",
      "   macro avg       0.88      0.92      0.90      3256\n",
      "weighted avg       0.93      0.92      0.92      3256\n",
      "\n",
      "0.9178298045602606\n"
     ]
    }
   ],
   "source": [
    "rf_prediction_pca = rf.predict(X_test_pca)\n",
    "print(classification_report(rf_prediction_pca, y_test, target_names=['not spam', 'spam']))\n",
    "print(roc_auc_score(rf_prediction_pca, y_test))"
   ]
  },
  {
   "cell_type": "markdown",
   "id": "ff133f90-7907-46c1-8e8e-53fe15754e81",
   "metadata": {},
   "source": [
    "**Извлечение эмбеддингов на классических моделях ничего не дало. Лучше всего отработала лог. регрессия (даже при минимальной предобработке тексов уже выдает приемлимый результат)**"
   ]
  },
  {
   "cell_type": "markdown",
   "id": "e731ba53-7f99-48c1-8758-0d3801a74a29",
   "metadata": {},
   "source": [
    "# Двунаправленная LSTM модель"
   ]
  },
  {
   "cell_type": "markdown",
   "id": "7c7540a7-c5d7-4668-b0d6-950af8f4f516",
   "metadata": {},
   "source": [
    "**Строго говоря, лучше было бы получить эмбеддинги для каждого токена с помощью pmi матрицы и уже после этого обучать нейросеть, но в этой задаче такой необходимости нет**"
   ]
  },
  {
   "cell_type": "code",
   "execution_count": 18,
   "id": "38582db5-7779-4cd5-8a05-6cb056426f0f",
   "metadata": {},
   "outputs": [],
   "source": [
    "import torch\n",
    "import torch.nn as nn\n",
    "import torch.optim as optim\n",
    "from torch.optim.lr_scheduler import ExponentialLR\n",
    "from torch.utils.data import Dataset, DataLoader\n",
    "import pandas as pd"
   ]
  },
  {
   "cell_type": "markdown",
   "id": "b7121c6e-e2ec-452d-8f82-acf7e2791719",
   "metadata": {},
   "source": [
    "**Отфильтруем слова по частоте и добавим оставшиеся в наш словарь (стэмминг оставим, чтобы снизить количество токенов в словаре)**"
   ]
  },
  {
   "cell_type": "code",
   "execution_count": 19,
   "id": "0566dc46-9c42-4b28-9d57-d1cdd4bd0e76",
   "metadata": {},
   "outputs": [],
   "source": [
    "from collections import Counter\n",
    "texts = list(X_train)\n",
    "cnt = Counter()\n",
    "\n",
    "for text in texts:\n",
    "    cnt.update(text.split())"
   ]
  },
  {
   "cell_type": "code",
   "execution_count": 20,
   "id": "bda0403b-22af-49dc-98ad-aa402b6b8d57",
   "metadata": {},
   "outputs": [],
   "source": [
    "tok2ind = {'<PAD>':0, '<UNK>':1}\n",
    "min_count = 3\n",
    "\n",
    "idx = 2\n",
    "for token in cnt.keys():\n",
    "    if cnt[token] >= min_count:\n",
    "        tok2ind[token] = idx\n",
    "        idx += 1"
   ]
  },
  {
   "cell_type": "code",
   "execution_count": 21,
   "id": "49beca23-13f3-48b4-aa7b-6053e7013e5b",
   "metadata": {},
   "outputs": [],
   "source": [
    "def tokenize(txt):\n",
    "    result = txt.split()\n",
    "    for idx in range(len(result)):\n",
    "        result[idx] = tok2ind.get(result[idx], 1)\n",
    "    return result"
   ]
  },
  {
   "cell_type": "code",
   "execution_count": 22,
   "id": "5472cabe-c72f-46ab-9f37-77ccd5634b5c",
   "metadata": {},
   "outputs": [],
   "source": [
    "# Создание датасета для хранения сообщений и меток спам/не спам\n",
    "class SpamDataset(Dataset):\n",
    "    def __init__(self, texts, target, is_test=False):\n",
    "        self.texts = texts\n",
    "        self.target = target\n",
    "        self.is_test = is_test\n",
    "\n",
    "        for idx in range(len(self.texts)):\n",
    "            self.texts[idx] = tokenize(self.texts[idx])\n",
    "            \n",
    "    def __len__(self):\n",
    "        return len(self.texts)\n",
    "\n",
    "    \n",
    "    def __getitem__(self, idx):\n",
    "        if self.is_test:\n",
    "            return self.texts[idx]\n",
    "            \n",
    "        return self.texts[idx], self.target[idx]\n",
    "\n",
    "# Функция для dataloader'а\n",
    "def pad_sequence(data):\n",
    "    sequences = [elem[0] for elem in data]\n",
    "    targets = [elem[1] for elem in data]\n",
    "    max_len = max([len(elem) for elem in sequences])\n",
    "    padded_sequences = [None for _ in range(len(sequences))]\n",
    "    for idx, sequence in enumerate(sequences):\n",
    "        padded_sequences[idx] = sequence + [tok2ind['<PAD>']] * (max_len - len(sequence))\n",
    "        \n",
    "    return torch.tensor(padded_sequences), torch.tensor(targets)"
   ]
  },
  {
   "cell_type": "code",
   "execution_count": 23,
   "id": "6444cca1-40b7-4811-bbf2-40a42b859ada",
   "metadata": {},
   "outputs": [],
   "source": [
    "batch_size = 256\n",
    "\n",
    "train_dataset = SpamDataset(list(X_train), list(y_train))\n",
    "test_dataset = SpamDataset(list(X_test), list(y_test))\n",
    "\n",
    "train_loader = DataLoader(train_dataset, batch_size=batch_size, collate_fn=pad_sequence, shuffle=True)\n",
    "test_loader = DataLoader(test_dataset, batch_size=batch_size, collate_fn=pad_sequence, shuffle=False)"
   ]
  },
  {
   "cell_type": "code",
   "execution_count": 29,
   "id": "dbcff44b-05c7-4554-9c0a-88d256b06898",
   "metadata": {},
   "outputs": [],
   "source": [
    "# Двунаправленная LSTM модель с головой для классификации спам/не спам\n",
    "class BiLSTMClassifier(nn.Module):\n",
    "    def __init__(self, hidden_size=150, num_layers=2, num_classes=2, dropout=0.12):\n",
    "        super(BiLSTMClassifier, self).__init__()\n",
    "        self.hidden_size = hidden_size\n",
    "        # Количество слоев в lstm слое\n",
    "        self.num_layers = num_layers\n",
    "        self.embedding = nn.Embedding(len(tok2ind), hidden_size)\n",
    "        # Если добавить еще слой, то и dropout можно добавить в lstm \n",
    "        self.bilstm = nn.LSTM(hidden_size, hidden_size, num_layers=num_layers, bidirectional=True, batch_first=True)\n",
    "        # Чтобы не переобучалась\n",
    "        self.dropout2 = nn.Dropout(dropout)\n",
    "        # Чтобы линейный слой лучше срабатывал\n",
    "        self.norm2 = nn.LayerNorm(2 * hidden_size)\n",
    "        # Голова для классификации\n",
    "        self.fc = nn.Linear(hidden_size*2, num_classes)\n",
    "    \n",
    "    def forward(self, x):\n",
    "        embeds = self.embedding(x)\n",
    "        lstm_out, _ = self.bilstm(embeds)\n",
    "        out = self.fc(self.dropout2(self.norm2(lstm_out.sum(dim=1)))) \n",
    "        return out\n"
   ]
  },
  {
   "cell_type": "code",
   "execution_count": 30,
   "id": "807c0458-db55-4873-8c84-b26493500dc3",
   "metadata": {},
   "outputs": [],
   "source": [
    "from adan_pytorch import Adan"
   ]
  },
  {
   "cell_type": "code",
   "execution_count": 31,
   "id": "49f60aa9-2ea4-4721-ae94-eaf8a14803ca",
   "metadata": {},
   "outputs": [],
   "source": [
    "model = BiLSTMClassifier()\n",
    "criterion = nn.CrossEntropyLoss()\n",
    "# Выбрал Adan, потому что для этой модели дополнительной памяти будет выделяться немного, а learning rate можно повысить\n",
    "optimizer = Adan(model.parameters(), lr = 1e-3, betas = (0.9, 0.9, 0.9), weight_decay = 0.002)\n",
    "# scheduler выбрал стандартный, с ним лучше, чем без него\n",
    "scheduler = ExponentialLR(optimizer, gamma=0.89)\n",
    "\n",
    "model = model.to(device)"
   ]
  },
  {
   "cell_type": "code",
   "execution_count": 32,
   "id": "fec11764-eaaf-4930-9b09-7255a272b8ed",
   "metadata": {},
   "outputs": [],
   "source": [
    "from tqdm import tqdm\n",
    "import gc"
   ]
  },
  {
   "cell_type": "code",
   "execution_count": 33,
   "id": "6cf5a23f-fddc-463b-9eae-f48ffbbe01ef",
   "metadata": {},
   "outputs": [
    {
     "name": "stderr",
     "output_type": "stream",
     "text": [
      "100%|█████████████████████████████████████████████████████████████████████████████████████████████████████████████████████████████████████████████████████████████████████████████████████████████████████████████████████████████████████████| 51/51 [00:05<00:00,  9.49it/s]\n"
     ]
    },
    {
     "name": "stdout",
     "output_type": "stream",
     "text": [
      "              precision    recall  f1-score   support\n",
      "\n",
      "    not spam       0.85      0.91      0.88      2321\n",
      "        spam       0.73      0.61      0.66       935\n",
      "\n",
      "    accuracy                           0.82      3256\n",
      "   macro avg       0.79      0.76      0.77      3256\n",
      "weighted avg       0.82      0.82      0.82      3256\n",
      "\n",
      "Epoch [1/20], Loss: 0.6248, Accuracy: 0.8225, roc-auc: 0.7599\n"
     ]
    },
    {
     "name": "stderr",
     "output_type": "stream",
     "text": [
      "100%|█████████████████████████████████████████████████████████████████████████████████████████████████████████████████████████████████████████████████████████████████████████████████████████████████████████████████████████████████████████| 51/51 [00:05<00:00,  9.50it/s]\n"
     ]
    },
    {
     "name": "stdout",
     "output_type": "stream",
     "text": [
      "              precision    recall  f1-score   support\n",
      "\n",
      "    not spam       0.89      0.98      0.93      2321\n",
      "        spam       0.92      0.69      0.79       935\n",
      "\n",
      "    accuracy                           0.89      3256\n",
      "   macro avg       0.90      0.83      0.86      3256\n",
      "weighted avg       0.90      0.89      0.89      3256\n",
      "\n",
      "Epoch [2/20], Loss: 0.3575, Accuracy: 0.8928, roc-auc: 0.8316\n"
     ]
    },
    {
     "name": "stderr",
     "output_type": "stream",
     "text": [
      "100%|█████████████████████████████████████████████████████████████████████████████████████████████████████████████████████████████████████████████████████████████████████████████████████████████████████████████████████████████████████████| 51/51 [00:05<00:00,  9.16it/s]\n"
     ]
    },
    {
     "name": "stdout",
     "output_type": "stream",
     "text": [
      "              precision    recall  f1-score   support\n",
      "\n",
      "    not spam       0.93      0.96      0.95      2321\n",
      "        spam       0.90      0.83      0.86       935\n",
      "\n",
      "    accuracy                           0.92      3256\n",
      "   macro avg       0.91      0.89      0.90      3256\n",
      "weighted avg       0.92      0.92      0.92      3256\n",
      "\n",
      "Epoch [3/20], Loss: 0.2321, Accuracy: 0.9223, roc-auc: 0.8934\n"
     ]
    },
    {
     "name": "stderr",
     "output_type": "stream",
     "text": [
      "100%|█████████████████████████████████████████████████████████████████████████████████████████████████████████████████████████████████████████████████████████████████████████████████████████████████████████████████████████████████████████| 51/51 [00:05<00:00,  9.17it/s]\n"
     ]
    },
    {
     "name": "stdout",
     "output_type": "stream",
     "text": [
      "              precision    recall  f1-score   support\n",
      "\n",
      "    not spam       0.96      0.93      0.95      2321\n",
      "        spam       0.84      0.91      0.87       935\n",
      "\n",
      "    accuracy                           0.92      3256\n",
      "   macro avg       0.90      0.92      0.91      3256\n",
      "weighted avg       0.93      0.92      0.92      3256\n",
      "\n",
      "Epoch [4/20], Loss: 0.1774, Accuracy: 0.9235, roc-auc: 0.9199\n"
     ]
    },
    {
     "name": "stderr",
     "output_type": "stream",
     "text": [
      "100%|█████████████████████████████████████████████████████████████████████████████████████████████████████████████████████████████████████████████████████████████████████████████████████████████████████████████████████████████████████████| 51/51 [00:05<00:00,  9.23it/s]\n"
     ]
    },
    {
     "name": "stdout",
     "output_type": "stream",
     "text": [
      "              precision    recall  f1-score   support\n",
      "\n",
      "    not spam       0.95      0.97      0.96      2321\n",
      "        spam       0.91      0.88      0.89       935\n",
      "\n",
      "    accuracy                           0.94      3256\n",
      "   macro avg       0.93      0.92      0.93      3256\n",
      "weighted avg       0.94      0.94      0.94      3256\n",
      "\n",
      "Epoch [5/20], Loss: 0.1413, Accuracy: 0.9404, roc-auc: 0.9212\n"
     ]
    },
    {
     "name": "stderr",
     "output_type": "stream",
     "text": [
      "100%|█████████████████████████████████████████████████████████████████████████████████████████████████████████████████████████████████████████████████████████████████████████████████████████████████████████████████████████████████████████| 51/51 [00:05<00:00,  9.33it/s]\n"
     ]
    },
    {
     "name": "stdout",
     "output_type": "stream",
     "text": [
      "              precision    recall  f1-score   support\n",
      "\n",
      "    not spam       0.97      0.94      0.96      2321\n",
      "        spam       0.87      0.92      0.89       935\n",
      "\n",
      "    accuracy                           0.94      3256\n",
      "   macro avg       0.92      0.93      0.92      3256\n",
      "weighted avg       0.94      0.94      0.94      3256\n",
      "\n",
      "Epoch [6/20], Loss: 0.1173, Accuracy: 0.9370, roc-auc: 0.9319\n"
     ]
    },
    {
     "name": "stderr",
     "output_type": "stream",
     "text": [
      "100%|█████████████████████████████████████████████████████████████████████████████████████████████████████████████████████████████████████████████████████████████████████████████████████████████████████████████████████████████████████████| 51/51 [00:05<00:00,  9.42it/s]\n"
     ]
    },
    {
     "name": "stdout",
     "output_type": "stream",
     "text": [
      "              precision    recall  f1-score   support\n",
      "\n",
      "    not spam       0.96      0.96      0.96      2321\n",
      "        spam       0.91      0.90      0.90       935\n",
      "\n",
      "    accuracy                           0.94      3256\n",
      "   macro avg       0.93      0.93      0.93      3256\n",
      "weighted avg       0.94      0.94      0.94      3256\n",
      "\n",
      "Epoch [7/20], Loss: 0.0985, Accuracy: 0.9447, roc-auc: 0.9306\n"
     ]
    },
    {
     "name": "stderr",
     "output_type": "stream",
     "text": [
      "100%|█████████████████████████████████████████████████████████████████████████████████████████████████████████████████████████████████████████████████████████████████████████████████████████████████████████████████████████████████████████| 51/51 [00:05<00:00,  9.48it/s]\n"
     ]
    },
    {
     "name": "stdout",
     "output_type": "stream",
     "text": [
      "              precision    recall  f1-score   support\n",
      "\n",
      "    not spam       0.97      0.95      0.96      2321\n",
      "        spam       0.87      0.94      0.90       935\n",
      "\n",
      "    accuracy                           0.94      3256\n",
      "   macro avg       0.92      0.94      0.93      3256\n",
      "weighted avg       0.94      0.94      0.94      3256\n",
      "\n",
      "Epoch [8/20], Loss: 0.0852, Accuracy: 0.9426, roc-auc: 0.9406\n"
     ]
    },
    {
     "name": "stderr",
     "output_type": "stream",
     "text": [
      "100%|█████████████████████████████████████████████████████████████████████████████████████████████████████████████████████████████████████████████████████████████████████████████████████████████████████████████████████████████████████████| 51/51 [00:05<00:00,  9.43it/s]\n"
     ]
    },
    {
     "name": "stdout",
     "output_type": "stream",
     "text": [
      "              precision    recall  f1-score   support\n",
      "\n",
      "    not spam       0.96      0.98      0.97      2321\n",
      "        spam       0.94      0.89      0.91       935\n",
      "\n",
      "    accuracy                           0.95      3256\n",
      "   macro avg       0.95      0.93      0.94      3256\n",
      "weighted avg       0.95      0.95      0.95      3256\n",
      "\n",
      "Epoch [9/20], Loss: 0.0721, Accuracy: 0.9521, roc-auc: 0.9329\n"
     ]
    },
    {
     "name": "stderr",
     "output_type": "stream",
     "text": [
      "100%|█████████████████████████████████████████████████████████████████████████████████████████████████████████████████████████████████████████████████████████████████████████████████████████████████████████████████████████████████████████| 51/51 [00:05<00:00,  9.34it/s]\n"
     ]
    },
    {
     "name": "stdout",
     "output_type": "stream",
     "text": [
      "              precision    recall  f1-score   support\n",
      "\n",
      "    not spam       0.97      0.97      0.97      2321\n",
      "        spam       0.92      0.92      0.92       935\n",
      "\n",
      "    accuracy                           0.96      3256\n",
      "   macro avg       0.95      0.95      0.95      3256\n",
      "weighted avg       0.96      0.96      0.96      3256\n",
      "\n",
      "Epoch [10/20], Loss: 0.0603, Accuracy: 0.9561, roc-auc: 0.9465\n"
     ]
    },
    {
     "name": "stderr",
     "output_type": "stream",
     "text": [
      "100%|█████████████████████████████████████████████████████████████████████████████████████████████████████████████████████████████████████████████████████████████████████████████████████████████████████████████████████████████████████████| 51/51 [00:05<00:00,  9.41it/s]\n"
     ]
    },
    {
     "name": "stdout",
     "output_type": "stream",
     "text": [
      "              precision    recall  f1-score   support\n",
      "\n",
      "    not spam       0.97      0.97      0.97      2321\n",
      "        spam       0.92      0.92      0.92       935\n",
      "\n",
      "    accuracy                           0.95      3256\n",
      "   macro avg       0.94      0.94      0.94      3256\n",
      "weighted avg       0.95      0.95      0.95      3256\n",
      "\n",
      "Epoch [11/20], Loss: 0.0528, Accuracy: 0.9539, roc-auc: 0.9434\n"
     ]
    },
    {
     "name": "stderr",
     "output_type": "stream",
     "text": [
      "100%|█████████████████████████████████████████████████████████████████████████████████████████████████████████████████████████████████████████████████████████████████████████████████████████████████████████████████████████████████████████| 51/51 [00:05<00:00,  9.46it/s]\n"
     ]
    },
    {
     "name": "stdout",
     "output_type": "stream",
     "text": [
      "              precision    recall  f1-score   support\n",
      "\n",
      "    not spam       0.97      0.95      0.96      2321\n",
      "        spam       0.89      0.93      0.91       935\n",
      "\n",
      "    accuracy                           0.95      3256\n",
      "   macro avg       0.93      0.94      0.94      3256\n",
      "weighted avg       0.95      0.95      0.95      3256\n",
      "\n",
      "Epoch [12/20], Loss: 0.0475, Accuracy: 0.9487, roc-auc: 0.9442\n"
     ]
    },
    {
     "name": "stderr",
     "output_type": "stream",
     "text": [
      "100%|█████████████████████████████████████████████████████████████████████████████████████████████████████████████████████████████████████████████████████████████████████████████████████████████████████████████████████████████████████████| 51/51 [00:05<00:00,  9.18it/s]\n"
     ]
    },
    {
     "name": "stdout",
     "output_type": "stream",
     "text": [
      "              precision    recall  f1-score   support\n",
      "\n",
      "    not spam       0.97      0.97      0.97      2321\n",
      "        spam       0.93      0.92      0.92       935\n",
      "\n",
      "    accuracy                           0.96      3256\n",
      "   macro avg       0.95      0.95      0.95      3256\n",
      "weighted avg       0.96      0.96      0.96      3256\n",
      "\n",
      "Epoch [13/20], Loss: 0.0428, Accuracy: 0.9567, roc-auc: 0.9463\n"
     ]
    },
    {
     "name": "stderr",
     "output_type": "stream",
     "text": [
      "100%|█████████████████████████████████████████████████████████████████████████████████████████████████████████████████████████████████████████████████████████████████████████████████████████████████████████████████████████████████████████| 51/51 [00:05<00:00,  9.49it/s]\n"
     ]
    },
    {
     "name": "stdout",
     "output_type": "stream",
     "text": [
      "              precision    recall  f1-score   support\n",
      "\n",
      "    not spam       0.97      0.96      0.97      2321\n",
      "        spam       0.90      0.94      0.92       935\n",
      "\n",
      "    accuracy                           0.95      3256\n",
      "   macro avg       0.94      0.95      0.94      3256\n",
      "weighted avg       0.95      0.95      0.95      3256\n",
      "\n",
      "Epoch [14/20], Loss: 0.0377, Accuracy: 0.9530, roc-auc: 0.9485\n"
     ]
    },
    {
     "name": "stderr",
     "output_type": "stream",
     "text": [
      "100%|█████████████████████████████████████████████████████████████████████████████████████████████████████████████████████████████████████████████████████████████████████████████████████████████████████████████████████████████████████████| 51/51 [00:05<00:00,  9.70it/s]\n"
     ]
    },
    {
     "name": "stdout",
     "output_type": "stream",
     "text": [
      "              precision    recall  f1-score   support\n",
      "\n",
      "    not spam       0.97      0.96      0.97      2321\n",
      "        spam       0.91      0.93      0.92       935\n",
      "\n",
      "    accuracy                           0.96      3256\n",
      "   macro avg       0.94      0.95      0.95      3256\n",
      "weighted avg       0.96      0.96      0.96      3256\n",
      "\n",
      "Epoch [15/20], Loss: 0.0335, Accuracy: 0.9558, roc-auc: 0.9495\n"
     ]
    },
    {
     "name": "stderr",
     "output_type": "stream",
     "text": [
      "100%|█████████████████████████████████████████████████████████████████████████████████████████████████████████████████████████████████████████████████████████████████████████████████████████████████████████████████████████████████████████| 51/51 [00:05<00:00,  9.56it/s]\n"
     ]
    },
    {
     "name": "stdout",
     "output_type": "stream",
     "text": [
      "              precision    recall  f1-score   support\n",
      "\n",
      "    not spam       0.96      0.97      0.97      2321\n",
      "        spam       0.93      0.91      0.92       935\n",
      "\n",
      "    accuracy                           0.95      3256\n",
      "   macro avg       0.95      0.94      0.94      3256\n",
      "weighted avg       0.95      0.95      0.95      3256\n",
      "\n",
      "Epoch [16/20], Loss: 0.0295, Accuracy: 0.9545, roc-auc: 0.9413\n"
     ]
    },
    {
     "name": "stderr",
     "output_type": "stream",
     "text": [
      "100%|█████████████████████████████████████████████████████████████████████████████████████████████████████████████████████████████████████████████████████████████████████████████████████████████████████████████████████████████████████████| 51/51 [00:05<00:00,  9.54it/s]\n"
     ]
    },
    {
     "name": "stdout",
     "output_type": "stream",
     "text": [
      "              precision    recall  f1-score   support\n",
      "\n",
      "    not spam       0.97      0.96      0.97      2321\n",
      "        spam       0.90      0.94      0.92       935\n",
      "\n",
      "    accuracy                           0.95      3256\n",
      "   macro avg       0.94      0.95      0.94      3256\n",
      "weighted avg       0.95      0.95      0.95      3256\n",
      "\n",
      "Epoch [17/20], Loss: 0.0271, Accuracy: 0.9533, roc-auc: 0.9481\n"
     ]
    },
    {
     "name": "stderr",
     "output_type": "stream",
     "text": [
      "100%|█████████████████████████████████████████████████████████████████████████████████████████████████████████████████████████████████████████████████████████████████████████████████████████████████████████████████████████████████████████| 51/51 [00:05<00:00,  9.34it/s]\n"
     ]
    },
    {
     "name": "stdout",
     "output_type": "stream",
     "text": [
      "              precision    recall  f1-score   support\n",
      "\n",
      "    not spam       0.97      0.96      0.97      2321\n",
      "        spam       0.90      0.94      0.92       935\n",
      "\n",
      "    accuracy                           0.95      3256\n",
      "   macro avg       0.94      0.95      0.94      3256\n",
      "weighted avg       0.95      0.95      0.95      3256\n",
      "\n",
      "Epoch [18/20], Loss: 0.0261, Accuracy: 0.9521, roc-auc: 0.9482\n"
     ]
    },
    {
     "name": "stderr",
     "output_type": "stream",
     "text": [
      "100%|█████████████████████████████████████████████████████████████████████████████████████████████████████████████████████████████████████████████████████████████████████████████████████████████████████████████████████████████████████████| 51/51 [00:05<00:00,  9.57it/s]\n"
     ]
    },
    {
     "name": "stdout",
     "output_type": "stream",
     "text": [
      "              precision    recall  f1-score   support\n",
      "\n",
      "    not spam       0.97      0.96      0.97      2321\n",
      "        spam       0.91      0.93      0.92       935\n",
      "\n",
      "    accuracy                           0.95      3256\n",
      "   macro avg       0.94      0.94      0.94      3256\n",
      "weighted avg       0.95      0.95      0.95      3256\n",
      "\n",
      "Epoch [19/20], Loss: 0.0237, Accuracy: 0.9521, roc-auc: 0.9447\n"
     ]
    },
    {
     "name": "stderr",
     "output_type": "stream",
     "text": [
      "100%|█████████████████████████████████████████████████████████████████████████████████████████████████████████████████████████████████████████████████████████████████████████████████████████████████████████████████████████████████████████| 51/51 [00:05<00:00,  9.42it/s]\n"
     ]
    },
    {
     "name": "stdout",
     "output_type": "stream",
     "text": [
      "              precision    recall  f1-score   support\n",
      "\n",
      "    not spam       0.97      0.96      0.97      2321\n",
      "        spam       0.91      0.93      0.92       935\n",
      "\n",
      "    accuracy                           0.95      3256\n",
      "   macro avg       0.94      0.95      0.94      3256\n",
      "weighted avg       0.95      0.95      0.95      3256\n",
      "\n",
      "Epoch [20/20], Loss: 0.0233, Accuracy: 0.9539, roc-auc: 0.9460\n"
     ]
    }
   ],
   "source": [
    "num_epochs=20\n",
    "\n",
    "for epoch in range(num_epochs):\n",
    "    model.train()\n",
    "    total_loss = 0\n",
    "    for inputs, target in tqdm(train_loader):\n",
    "        optimizer.zero_grad()\n",
    "        inputs = inputs.to(device)\n",
    "        target = target.to(device)\n",
    "        outputs = model(inputs)\n",
    "        loss = criterion(outputs, target)\n",
    "        loss.backward()\n",
    "        optimizer.step()\n",
    "        total_loss += loss.item()\n",
    "    average_train_loss = total_loss / len(train_loader)\n",
    "    scheduler.step()\n",
    "    \n",
    "    model.eval()\n",
    "    correct = 0\n",
    "    total = 0\n",
    "    with torch.no_grad():\n",
    "        corr = []\n",
    "        pred = []\n",
    "        for inputs, target in test_loader:\n",
    "            inputs = inputs.to(device)\n",
    "            outputs = model(inputs)\n",
    "            _, predicted = torch.max(outputs, 1)\n",
    "            predicted = predicted.cpu()\n",
    "            corr += target\n",
    "            pred += predicted\n",
    "            total += target.size(0)\n",
    "            correct += (predicted == target).sum().item()\n",
    "    \n",
    "    roc = roc_auc_score(corr, pred)\n",
    "    accuracy = correct / total\n",
    "    gc.collect()\n",
    "    torch.cuda.empty_cache()\n",
    "    print(classification_report(corr, pred, target_names=['not spam', 'spam']))\n",
    "    print(f'Epoch [{epoch+1}/{num_epochs}], Loss: {average_train_loss:.4f}, Accuracy: {accuracy:.4f}, roc-auc: {roc:.4f}')\n"
   ]
  },
  {
   "cell_type": "markdown",
   "id": "53f31c37-5dcb-48e5-8272-7ebc0dec831a",
   "metadata": {},
   "source": [
    "Результаты лучше, чем у классических методов, однако, ресурсов на обучение и инференс требуется намного больше"
   ]
  },
  {
   "cell_type": "markdown",
   "id": "4658453d-3779-4d61-9fee-d25e7d3179e7",
   "metadata": {},
   "source": [
    "# Предобученная модель"
   ]
  },
  {
   "cell_type": "markdown",
   "id": "b4ef74ec-3bd9-4fc9-9cc1-e3368b7035a8",
   "metadata": {},
   "source": [
    "Модель, лучше всего показавшая себя, было решено ее не дообучать под наши данные, потому что результаты и так лучше всяких ожиданий"
   ]
  },
  {
   "cell_type": "code",
   "execution_count": 565,
   "id": "a341deec-de33-43b2-b043-bcab63b15d28",
   "metadata": {},
   "outputs": [],
   "source": [
    "tokenizer = AutoTokenizer.from_pretrained(\"mshenoda/roberta-spam\", device_map=\"auto\", cache_dir=cache_dir)\n",
    "model = AutoModelForSequenceClassification.from_pretrained(\"mshenoda/roberta-spam\", device_map=\"auto\", cache_dir=cache_dir)"
   ]
  },
  {
   "cell_type": "code",
   "execution_count": 566,
   "id": "540db088-2044-474f-bf3d-f0a228b9d4b8",
   "metadata": {},
   "outputs": [],
   "source": [
    "from transformers import pipeline\n",
    "model = model.to(device)\n",
    "pipe = pipeline(\"text-classification\", model=model, tokenizer=tokenizer)"
   ]
  },
  {
   "cell_type": "code",
   "execution_count": 578,
   "id": "7c44cc6e-eb02-4ff9-b49f-49ff27f5c732",
   "metadata": {},
   "outputs": [],
   "source": [
    "transformer_data = pd.read_csv('train_spam.csv')\n",
    "\n",
    "target_dict = {'ham': 0, 'spam' : 1}\n",
    "transformer_data['text_type'] = transformer_data['text_type'].apply(lambda x: target_dict[x])\n",
    "transformer_text = transformer_data['text']\n",
    "transformer_target = transformer_data['text_type']"
   ]
  },
  {
   "cell_type": "markdown",
   "id": "2f6134c9-4791-4239-83ef-fa80314af060",
   "metadata": {},
   "source": [
    "Токенайзер у модели не очень оптимальный, поэтому приходится обрезать тексты"
   ]
  },
  {
   "cell_type": "code",
   "execution_count": 569,
   "id": "02724ed5-7506-4a25-a680-9a414823191b",
   "metadata": {},
   "outputs": [],
   "source": [
    "for i in range(len(transformer_text)):\n",
    "    if len(transformer_text[i]) >= 175:\n",
    "        transformer_text[i] = transformer_text[i][:175]"
   ]
  },
  {
   "cell_type": "code",
   "execution_count": 570,
   "id": "13b66d84-6e95-4cfa-aa75-33dfa5b09b3c",
   "metadata": {},
   "outputs": [],
   "source": [
    "result_llm = pipe(list(transformer_text))"
   ]
  },
  {
   "cell_type": "code",
   "execution_count": 571,
   "id": "089b1993-5943-4064-99e4-807563f244d6",
   "metadata": {},
   "outputs": [],
   "source": [
    "results = []\n",
    "for idx in range(len(result_llm)):\n",
    "    results.append(1 if result_llm[idx]['label'] == 'LABEL_1' else 0)"
   ]
  },
  {
   "cell_type": "markdown",
   "id": "c2bcd3d9-4fc4-42b5-b307-1ddd3e1c325b",
   "metadata": {},
   "source": [
    "Тестировалась модель сразу на всей обучающей выборке, результаты превосходят все представленные ранее методы"
   ]
  },
  {
   "cell_type": "code",
   "execution_count": 579,
   "id": "9c03a81d-e418-4cf9-b321-275f8bccb443",
   "metadata": {},
   "outputs": [
    {
     "name": "stdout",
     "output_type": "stream",
     "text": [
      "              precision    recall  f1-score   support\n",
      "\n",
      "    not spam       0.99      0.99      0.99     11469\n",
      "        spam       0.98      0.97      0.98      4809\n",
      "\n",
      "    accuracy                           0.99     16278\n",
      "   macro avg       0.98      0.98      0.98     16278\n",
      "weighted avg       0.99      0.99      0.99     16278\n",
      "\n",
      "ROC-AUC:  0.9822079992463343\n"
     ]
    }
   ],
   "source": [
    "print(classification_report(transformer_target, results, target_names=['not spam', 'spam']))\n",
    "print('ROC-AUC: ',roc_auc_score(transformer_target, results))"
   ]
  },
  {
   "cell_type": "markdown",
   "id": "66e60063-40a7-4c0d-8622-480a2b18fabb",
   "metadata": {},
   "source": [
    "# Генерируем предсказания на тестововой выборке"
   ]
  },
  {
   "cell_type": "code",
   "execution_count": 581,
   "id": "974ceb58-3308-429e-8512-39abfc0f32e2",
   "metadata": {},
   "outputs": [
    {
     "data": {
      "text/html": [
       "<div>\n",
       "<style scoped>\n",
       "    .dataframe tbody tr th:only-of-type {\n",
       "        vertical-align: middle;\n",
       "    }\n",
       "\n",
       "    .dataframe tbody tr th {\n",
       "        vertical-align: top;\n",
       "    }\n",
       "\n",
       "    .dataframe thead th {\n",
       "        text-align: right;\n",
       "    }\n",
       "</style>\n",
       "<table border=\"1\" class=\"dataframe\">\n",
       "  <thead>\n",
       "    <tr style=\"text-align: right;\">\n",
       "      <th></th>\n",
       "      <th>text</th>\n",
       "    </tr>\n",
       "  </thead>\n",
       "  <tbody>\n",
       "    <tr>\n",
       "      <th>0</th>\n",
       "      <td>j jim whitehead ejw cse ucsc edu writes j you ...</td>\n",
       "    </tr>\n",
       "    <tr>\n",
       "      <th>1</th>\n",
       "      <td>original message from bitbitch magnesium net p...</td>\n",
       "    </tr>\n",
       "    <tr>\n",
       "      <th>2</th>\n",
       "      <td>java for managers vince durasoft who just taug...</td>\n",
       "    </tr>\n",
       "    <tr>\n",
       "      <th>3</th>\n",
       "      <td>there is a youtuber name saiman says</td>\n",
       "    </tr>\n",
       "    <tr>\n",
       "      <th>4</th>\n",
       "      <td>underpriced issue with high return on equity t...</td>\n",
       "    </tr>\n",
       "  </tbody>\n",
       "</table>\n",
       "</div>"
      ],
      "text/plain": [
       "                                                text\n",
       "0  j jim whitehead ejw cse ucsc edu writes j you ...\n",
       "1  original message from bitbitch magnesium net p...\n",
       "2  java for managers vince durasoft who just taug...\n",
       "3               there is a youtuber name saiman says\n",
       "4  underpriced issue with high return on equity t..."
      ]
     },
     "execution_count": 581,
     "metadata": {},
     "output_type": "execute_result"
    }
   ],
   "source": [
    "transformer_test_data = pd.read_csv('test_spam.csv')\n",
    "transformer_test_data.head()"
   ]
  },
  {
   "cell_type": "code",
   "execution_count": 584,
   "id": "d85669a1-1374-4294-aeda-65ab7a8ea3dc",
   "metadata": {},
   "outputs": [],
   "source": [
    "transformer_test_text = transformer_test_data['text']\n",
    "\n",
    "for i in range(len(transformer_test_text)):\n",
    "    if len(transformer_test_text[i]) >= 175:\n",
    "        transformer_test_text[i] =  transformer_test_text[i][:175]"
   ]
  },
  {
   "cell_type": "code",
   "execution_count": 586,
   "id": "409857b6-86d6-4765-9e7c-2f2571dbaadb",
   "metadata": {},
   "outputs": [],
   "source": [
    "test_result_llm = pipe(list(transformer_test_text))"
   ]
  },
  {
   "cell_type": "code",
   "execution_count": 597,
   "id": "1a8fa9d1-f60b-4be7-bf34-d20d0148f877",
   "metadata": {},
   "outputs": [],
   "source": [
    "results_test = []\n",
    "for idx in range(len(test_result_llm)):\n",
    "    results_test.append(1 if test_result_llm[idx]['label'] == 'LABEL_1' else 0)"
   ]
  },
  {
   "cell_type": "code",
   "execution_count": 598,
   "id": "253d651d-9b08-4668-b70f-2dedd1d214a5",
   "metadata": {},
   "outputs": [],
   "source": [
    "transformer_test_data['prediction'] = results_test"
   ]
  },
  {
   "cell_type": "code",
   "execution_count": 599,
   "id": "22801829-89ce-4350-8e51-f1bbb8f3a3e5",
   "metadata": {},
   "outputs": [
    {
     "data": {
      "text/html": [
       "<div>\n",
       "<style scoped>\n",
       "    .dataframe tbody tr th:only-of-type {\n",
       "        vertical-align: middle;\n",
       "    }\n",
       "\n",
       "    .dataframe tbody tr th {\n",
       "        vertical-align: top;\n",
       "    }\n",
       "\n",
       "    .dataframe thead th {\n",
       "        text-align: right;\n",
       "    }\n",
       "</style>\n",
       "<table border=\"1\" class=\"dataframe\">\n",
       "  <thead>\n",
       "    <tr style=\"text-align: right;\">\n",
       "      <th></th>\n",
       "      <th>text</th>\n",
       "      <th>prediction</th>\n",
       "    </tr>\n",
       "  </thead>\n",
       "  <tbody>\n",
       "    <tr>\n",
       "      <th>0</th>\n",
       "      <td>j jim whitehead ejw cse ucsc edu writes j you ...</td>\n",
       "      <td>0</td>\n",
       "    </tr>\n",
       "    <tr>\n",
       "      <th>1</th>\n",
       "      <td>original message from bitbitch magnesium net p...</td>\n",
       "      <td>0</td>\n",
       "    </tr>\n",
       "    <tr>\n",
       "      <th>2</th>\n",
       "      <td>java for managers vince durasoft who just taug...</td>\n",
       "      <td>0</td>\n",
       "    </tr>\n",
       "    <tr>\n",
       "      <th>3</th>\n",
       "      <td>there is a youtuber name saiman says</td>\n",
       "      <td>0</td>\n",
       "    </tr>\n",
       "    <tr>\n",
       "      <th>4</th>\n",
       "      <td>underpriced issue with high return on equity t...</td>\n",
       "      <td>1</td>\n",
       "    </tr>\n",
       "  </tbody>\n",
       "</table>\n",
       "</div>"
      ],
      "text/plain": [
       "                                                text  prediction\n",
       "0  j jim whitehead ejw cse ucsc edu writes j you ...           0\n",
       "1  original message from bitbitch magnesium net p...           0\n",
       "2  java for managers vince durasoft who just taug...           0\n",
       "3               there is a youtuber name saiman says           0\n",
       "4  underpriced issue with high return on equity t...           1"
      ]
     },
     "execution_count": 599,
     "metadata": {},
     "output_type": "execute_result"
    }
   ],
   "source": [
    "transformer_test_data.head()"
   ]
  },
  {
   "cell_type": "code",
   "execution_count": 609,
   "id": "605c5572-ec92-4ed2-ad92-ff6fa44617ad",
   "metadata": {},
   "outputs": [],
   "source": [
    "transformer_test_data.to_csv('result.csv', index=False)"
   ]
  },
  {
   "cell_type": "code",
   "execution_count": null,
   "id": "5ec00292-534b-4d1b-a94a-62556c7b244a",
   "metadata": {},
   "outputs": [],
   "source": []
  }
 ],
 "metadata": {
  "kernelspec": {
   "display_name": "Python 3 (ipykernel)",
   "language": "python",
   "name": "python3"
  },
  "language_info": {
   "codemirror_mode": {
    "name": "ipython",
    "version": 3
   },
   "file_extension": ".py",
   "mimetype": "text/x-python",
   "name": "python",
   "nbconvert_exporter": "python",
   "pygments_lexer": "ipython3",
   "version": "3.9.18"
  }
 },
 "nbformat": 4,
 "nbformat_minor": 5
}
